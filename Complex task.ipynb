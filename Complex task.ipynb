{
 "cells": [
  {
   "cell_type": "code",
   "execution_count": 1,
   "id": "1b8d43cd-cb56-4444-ad69-2adf8e8b415e",
   "metadata": {},
   "outputs": [
    {
     "name": "stdin",
     "output_type": "stream",
     "text": [
      "Enter your country name: Canada\n",
      "Enter your order amount: 5000\n",
      "Enter your province: Alberta\n"
     ]
    },
    {
     "name": "stdout",
     "output_type": "stream",
     "text": [
      "total amount : 5025.0\n"
     ]
    }
   ],
   "source": [
    "country_name=input(\"Enter your country name:\")\n",
    "order=int(input(\"Enter your order amount:\"))\n",
    "if country_name==\"Canada\":\n",
    "    province=input(\"Enter your province:\")\n",
    "    if province==\"Alberta\":\n",
    "        alberta_charges=(order*0.5)/100\n",
    "        total_charges=order+alberta_charges\n",
    "        print(\"total amount :\",total_charges)\n",
    "    elif province==\"Ontario\" or province== \"New Brunswick\" or province==\"Nova Scotia\":\n",
    "        then_charges=(order*0.13)/100\n",
    "        thick_charges=order+then_charges\n",
    "        print(\"Total charges:\",thick_charges)\n",
    "    else:\n",
    "        provincial_tax=(order*.06)/100\n",
    "        total_provincial_tax=order+provincial_tax\n",
    "        Gst_tax=(order*.05)/100\n",
    "        total_Gst_tax=order+Gst_tax\n",
    "        total_tax=total_provincial_tax+total_Gst_tax\n",
    "        print(\"Total tax:\",total_tax) \n",
    "else:\n",
    "     print(\"The order is from other country so no charges applied:\")\n",
    "   "
   ]
  },
  {
   "cell_type": "code",
   "execution_count": null,
   "id": "9c978a5e-ddb9-46ba-9e29-9d351dce750e",
   "metadata": {},
   "outputs": [],
   "source": []
  }
 ],
 "metadata": {
  "kernelspec": {
   "display_name": "Python 3 (ipykernel)",
   "language": "python",
   "name": "python3"
  },
  "language_info": {
   "codemirror_mode": {
    "name": "ipython",
    "version": 3
   },
   "file_extension": ".py",
   "mimetype": "text/x-python",
   "name": "python",
   "nbconvert_exporter": "python",
   "pygments_lexer": "ipython3",
   "version": "3.12.4"
  }
 },
 "nbformat": 4,
 "nbformat_minor": 5
}
