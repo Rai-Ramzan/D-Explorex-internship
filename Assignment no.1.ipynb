{
 "cells": [
  {
   "cell_type": "code",
   "execution_count": 1,
   "id": "dc98e61e-3eea-4bc9-85ea-3be81a2581bc",
   "metadata": {},
   "outputs": [],
   "source": [
    "Task:1"
   ]
  },
  {
   "cell_type": "code",
   "execution_count": 2,
   "id": "23108165-5979-4d37-bba8-d6a2f3deef97",
   "metadata": {},
   "outputs": [
    {
     "name": "stdin",
     "output_type": "stream",
     "text": [
      "Enter your name: Muhammad Ashfaq\n",
      "Enter your age 34\n"
     ]
    },
    {
     "name": "stdout",
     "output_type": "stream",
     "text": [
      "Helo Muhammad Ashfaq ! You are 34.0 years old\n"
     ]
    }
   ],
   "source": [
    "name=input(\"Enter your name:\")\n",
    "age=float(input(\"Enter your age\"))\n",
    "print(\"Helo\",name,\"!\",\"You are\",age,\"years old\")"
   ]
  },
  {
   "cell_type": "code",
   "execution_count": 3,
   "id": "3db46e21-613e-48ce-bd42-f47978b4af05",
   "metadata": {},
   "outputs": [],
   "source": [
    "Task:2"
   ]
  },
  {
   "cell_type": "code",
   "execution_count": 4,
   "id": "154ca4d0-f7ff-40d7-8a80-a381d8cf3172",
   "metadata": {},
   "outputs": [
    {
     "name": "stdin",
     "output_type": "stream",
     "text": [
      "Enter your Length of rectangle: 34\n",
      "Enter your Width of rectangle: 12\n"
     ]
    },
    {
     "name": "stdout",
     "output_type": "stream",
     "text": [
      "The area of rectangle 408.0\n"
     ]
    }
   ],
   "source": [
    "length=float(input(\"Enter your Length of rectangle:\"))\n",
    "width=float(input(\"Enter your Width of rectangle:\"))\n",
    "area_rectangle=length*width\n",
    "print(\"The area of rectangle\",area_rectangle)"
   ]
  },
  {
   "cell_type": "code",
   "execution_count": 5,
   "id": "35ad16cb-79c7-4c5d-b3d6-9d15bdf819d4",
   "metadata": {},
   "outputs": [],
   "source": [
    "Task:3"
   ]
  },
  {
   "cell_type": "code",
   "execution_count": 7,
   "id": "d1220c27-3542-47a0-ab1f-f21074b5a090",
   "metadata": {},
   "outputs": [
    {
     "name": "stdin",
     "output_type": "stream",
     "text": [
      "Enter your tempreture in celcius: 34\n"
     ]
    },
    {
     "name": "stdout",
     "output_type": "stream",
     "text": [
      "Tempreture in Fahrenheit 93.2\n"
     ]
    }
   ],
   "source": [
    "tempreture=float(input(\"Enter your tempreture in celcius:\"))\n",
    "fahrenheit=(tempreture*(9/5))+32\n",
    "print(\"Tempreture in Fahrenheit\",fahrenheit)"
   ]
  },
  {
   "cell_type": "code",
   "execution_count": 8,
   "id": "6e0a94b9-cb04-4eb9-ae37-31f46ebc6de7",
   "metadata": {},
   "outputs": [],
   "source": [
    "Task:4"
   ]
  },
  {
   "cell_type": "code",
   "execution_count": 9,
   "id": "e053b45f-c68f-47a3-ac37-9cf37cd42e68",
   "metadata": {},
   "outputs": [
    {
     "name": "stdin",
     "output_type": "stream",
     "text": [
      "Enter your price of item: 200\n",
      "Enter sales tax of item: 10\n"
     ]
    },
    {
     "name": "stdout",
     "output_type": "stream",
     "text": [
      "The cost of item 210.0\n"
     ]
    }
   ],
   "source": [
    "price_item=int(input(\"Enter your price of item:\"))\n",
    "tax_rate=float(input(\"Enter sales tax of item:\"))\n",
    "total_cost=price_item+tax_rate\n",
    "print(\"The cost of item\",total_cost)"
   ]
  },
  {
   "cell_type": "code",
   "execution_count": 10,
   "id": "87752437-a167-4192-8314-3eafd0509038",
   "metadata": {},
   "outputs": [],
   "source": [
    "Task:5"
   ]
  },
  {
   "cell_type": "code",
   "execution_count": 11,
   "id": "bf7eaf5c-d7d8-4f49-9778-15bd3eefbc8f",
   "metadata": {},
   "outputs": [
    {
     "name": "stdin",
     "output_type": "stream",
     "text": [
      "Enter your distance traveled in kilometers: 200\n",
      "Enter fuel efficiency in kilometers per liter: 50\n"
     ]
    },
    {
     "name": "stdout",
     "output_type": "stream",
     "text": [
      "The amount of fuel consumed 4.0\n"
     ]
    }
   ],
   "source": [
    "distance_traveled=int(input(\"Enter your distance traveled in kilometers:\"))\n",
    "fuel_efficiency=int(input(\"Enter fuel efficiency in kilometers per liter:\"))\n",
    "fuel_consumed=distance_traveled/fuel_efficiency\n",
    "print(\"The amount of fuel consumed\",fuel_consumed)"
   ]
  },
  {
   "cell_type": "code",
   "execution_count": 12,
   "id": "6b956263-99eb-422d-bc7c-2f787fbcbf73",
   "metadata": {},
   "outputs": [],
   "source": [
    "Task:6"
   ]
  },
  {
   "cell_type": "code",
   "execution_count": 13,
   "id": "257f4175-905d-4866-85aa-b27101961e04",
   "metadata": {},
   "outputs": [
    {
     "name": "stdin",
     "output_type": "stream",
     "text": [
      "Enter your bill amount: 4000\n",
      "Enter your tip percentage: 560\n"
     ]
    },
    {
     "name": "stdout",
     "output_type": "stream",
     "text": [
      "The Tip amount 22400.0 Total bill paid 26400.0\n"
     ]
    }
   ],
   "source": [
    "bill_amount=int(input(\"Enter your bill amount:\"))\n",
    "tip_percentage=float(input(\"Enter your tip percentage:\"))\n",
    "tip_amount=(tip_percentage/100)*bill_amount\n",
    "total_amount=bill_amount+tip_amount\n",
    "print(\"The Tip amount\",tip_amount,\"Total bill paid\",total_amount)"
   ]
  },
  {
   "cell_type": "code",
   "execution_count": 14,
   "id": "ff9c3871-19ac-4523-b311-2d99bfa3df68",
   "metadata": {},
   "outputs": [],
   "source": [
    "Task:7"
   ]
  },
  {
   "cell_type": "code",
   "execution_count": 15,
   "id": "c19af920-be34-4906-8861-470b171e5756",
   "metadata": {},
   "outputs": [
    {
     "name": "stdin",
     "output_type": "stream",
     "text": [
      "Enter the length in inches: 40\n"
     ]
    },
    {
     "name": "stdout",
     "output_type": "stream",
     "text": [
      "The length in feet 3.3333333333333335 The length in inches 4.0\n"
     ]
    }
   ],
   "source": [
    "length=float(input(\"Enter the length in inches:\"))\n",
    "feet=length/12\n",
    "inches=length%12\n",
    "print(\"The length in feet\",feet,\"The length in inches\",inches)"
   ]
  },
  {
   "cell_type": "code",
   "execution_count": 16,
   "id": "a1ba44d8-53e2-40e4-9e5e-11d711827fc2",
   "metadata": {},
   "outputs": [],
   "source": [
    "Task:8"
   ]
  },
  {
   "cell_type": "code",
   "execution_count": 17,
   "id": "02ad7bd0-2116-4340-aa9b-e74cd7906a34",
   "metadata": {},
   "outputs": [
    {
     "name": "stdin",
     "output_type": "stream",
     "text": [
      "Enter the base of triangle: 23\n",
      "Enter the height of triangle: 45\n"
     ]
    },
    {
     "name": "stdout",
     "output_type": "stream",
     "text": [
      "The area of triangle 517.5\n"
     ]
    }
   ],
   "source": [
    "base=float(input(\"Enter the base of triangle:\"))\n",
    "height=float(input(\"Enter the height of triangle:\"))\n",
    "area_triangle=(base*height)/2\n",
    "print(\"The area of triangle\",area_triangle)"
   ]
  },
  {
   "cell_type": "code",
   "execution_count": 18,
   "id": "2704275d-c3c5-4c1f-849e-0b21a12599b0",
   "metadata": {},
   "outputs": [],
   "source": [
    "Task:9"
   ]
  },
  {
   "cell_type": "code",
   "execution_count": 19,
   "id": "5457a31f-e24a-4b79-a85f-987d1a7a3c80",
   "metadata": {},
   "outputs": [
    {
     "name": "stdin",
     "output_type": "stream",
     "text": [
      "Enter the length of rectangular prism: 12\n",
      "Enter the width of rectangular prism: 13\n",
      "Enter the height of rectangular prism: 14\n"
     ]
    },
    {
     "name": "stdout",
     "output_type": "stream",
     "text": [
      "The volume of the rectangular prism: 2184.0\n"
     ]
    }
   ],
   "source": [
    "length=float(input(\"Enter the length of rectangular prism:\"))\n",
    "width=float(input(\"Enter the width of rectangular prism:\"))\n",
    "height=float(input(\"Enter the height of rectangular prism:\"))\n",
    "volume=length*width*height\n",
    "print(\"The volume of the rectangular prism:\",volume)"
   ]
  },
  {
   "cell_type": "code",
   "execution_count": 20,
   "id": "8e4f13d0-f5df-4526-8178-48e4356ec345",
   "metadata": {},
   "outputs": [],
   "source": [
    "Task:10"
   ]
  },
  {
   "cell_type": "code",
   "execution_count": 21,
   "id": "084a15b6-b7d9-4a2c-b03e-8d46cfd67898",
   "metadata": {},
   "outputs": [
    {
     "name": "stdin",
     "output_type": "stream",
     "text": [
      "Enter the radius of a circle: 45\n"
     ]
    },
    {
     "name": "stdout",
     "output_type": "stream",
     "text": [
      "The circumference of a circle 282.6\n"
     ]
    }
   ],
   "source": [
    "radius=float(input(\"Enter the radius of a circle:\"))\n",
    "circumference=2*3.14*radius\n",
    "print(\"The circumference of a circle\",circumference)"
   ]
  },
  {
   "cell_type": "code",
   "execution_count": null,
   "id": "383c08cd-b530-4c55-9edf-115814d5c525",
   "metadata": {},
   "outputs": [],
   "source": []
  }
 ],
 "metadata": {
  "kernelspec": {
   "display_name": "Python 3 (ipykernel)",
   "language": "python",
   "name": "python3"
  },
  "language_info": {
   "codemirror_mode": {
    "name": "ipython",
    "version": 3
   },
   "file_extension": ".py",
   "mimetype": "text/x-python",
   "name": "python",
   "nbconvert_exporter": "python",
   "pygments_lexer": "ipython3",
   "version": "3.12.4"
  }
 },
 "nbformat": 4,
 "nbformat_minor": 5
}
