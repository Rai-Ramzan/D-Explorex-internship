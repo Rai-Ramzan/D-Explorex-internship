{
 "cells": [
  {
   "cell_type": "code",
   "execution_count": 1,
   "id": "2c0e72f7-8e4f-4c65-a975-5ca97259ce8a",
   "metadata": {},
   "outputs": [],
   "source": [
    "Task:1"
   ]
  },
  {
   "cell_type": "code",
   "execution_count": 2,
   "id": "412cfe76-d74f-4519-935b-47a2ec5a8787",
   "metadata": {},
   "outputs": [
    {
     "name": "stdin",
     "output_type": "stream",
     "text": [
      "Enter your age: 17\n"
     ]
    },
    {
     "name": "stdout",
     "output_type": "stream",
     "text": [
      "You are not eligible to voat\n"
     ]
    }
   ],
   "source": [
    "Age=int(input(\"Enter your age:\"))\n",
    "if Age>=18:\n",
    "    print(\"You are eligible to voat\")\n",
    "else:\n",
    "    print(\"You are not eligible to voat\") "
   ]
  },
  {
   "cell_type": "code",
   "execution_count": 3,
   "id": "ecbeffaa-76f5-491c-92f1-eb462b214aba",
   "metadata": {},
   "outputs": [],
   "source": [
    "Task:2"
   ]
  },
  {
   "cell_type": "code",
   "execution_count": 4,
   "id": "9fe12e71-2172-4bce-b92f-7ff0cf7ffc66",
   "metadata": {},
   "outputs": [
    {
     "name": "stdin",
     "output_type": "stream",
     "text": [
      "Enter your Score: 76\n"
     ]
    },
    {
     "name": "stdout",
     "output_type": "stream",
     "text": [
      "The Grade is C\n"
     ]
    }
   ],
   "source": [
    "Marks=float(input(\"Enter your Score:\"))\n",
    "if Marks>=90:\n",
    "    print(\"The Grade is A+\")\n",
    "elif Marks>=80:\n",
    "    print(\"The Grade is B\")\n",
    "elif Marks>=70:\n",
    "    print(\"The Grade is C\")\n",
    "elif Marks>=60:\n",
    "    print(\"The Grade is D\")\n",
    "elif Marks<60:\n",
    "    print(\"The Grade is F\")"
   ]
  },
  {
   "cell_type": "code",
   "execution_count": 5,
   "id": "6cd714f2-2fb1-44f8-ac3a-1448008ada7e",
   "metadata": {},
   "outputs": [],
   "source": [
    "Task:3"
   ]
  },
  {
   "cell_type": "code",
   "execution_count": 6,
   "id": "b2fbaeec-dec5-4cb9-ad11-ede26f1aae89",
   "metadata": {},
   "outputs": [
    {
     "name": "stdin",
     "output_type": "stream",
     "text": [
      "Enter your income: 56000\n"
     ]
    },
    {
     "name": "stdout",
     "output_type": "stream",
     "text": [
      "10000.0\n"
     ]
    }
   ],
   "source": [
    "Income=float(input(\"Enter your income:\"))\n",
    "if Income<50000:\n",
    "    amount_tax=50000*0.1\n",
    "    print(amount_tax)\n",
    "else:\n",
    "    amount_tax=50000*0.2\n",
    "    print(amount_tax)"
   ]
  },
  {
   "cell_type": "code",
   "execution_count": 7,
   "id": "b4979666-6ea9-43bf-ab49-141367bdd1ee",
   "metadata": {},
   "outputs": [],
   "source": [
    "Task:4"
   ]
  },
  {
   "cell_type": "code",
   "execution_count": 8,
   "id": "638e9ff0-0df0-4e05-8824-5e6da39713a6",
   "metadata": {},
   "outputs": [
    {
     "name": "stdin",
     "output_type": "stream",
     "text": [
      "Enter your year: 36\n"
     ]
    },
    {
     "name": "stdout",
     "output_type": "stream",
     "text": [
      "Leap year\n"
     ]
    }
   ],
   "source": [
    "Year=int(input(\"Enter your year:\"))\n",
    "if Year%4==0:\n",
    "    print(\"Leap year\")\n",
    "else:\n",
    "    print(\"Not leap year\")"
   ]
  },
  {
   "cell_type": "code",
   "execution_count": 9,
   "id": "c5079cca-d3e1-43dd-baae-c120fc7bf7a6",
   "metadata": {},
   "outputs": [],
   "source": [
    "Task:5"
   ]
  },
  {
   "cell_type": "code",
   "execution_count": 10,
   "id": "8aab760c-0e1b-4fea-a894-d4d8ba0b4f5a",
   "metadata": {},
   "outputs": [
    {
     "name": "stdin",
     "output_type": "stream",
     "text": [
      "Enter your first number: 60\n",
      "Enter your second number: 70\n"
     ]
    },
    {
     "name": "stdout",
     "output_type": "stream",
     "text": [
      "Num_2 is maximum than Num_1\n"
     ]
    }
   ],
   "source": [
    "Num_1=int(input(\"Enter your first number:\"))\n",
    "Num_2=int(input(\"Enter your second number:\"))\n",
    "if Num_1>Num_2:\n",
    "    print(\"Num_1 is maximum than Num_2\")\n",
    "else:\n",
    "    print(\"Num_2 is maximum than Num_1\")"
   ]
  },
  {
   "cell_type": "code",
   "execution_count": 11,
   "id": "25161466-fd02-4e7e-9c50-06ff3278006d",
   "metadata": {},
   "outputs": [],
   "source": [
    "Task:6"
   ]
  },
  {
   "cell_type": "code",
   "execution_count": 12,
   "id": "807466f7-ce21-4b87-a3ac-f836f9fb5c23",
   "metadata": {},
   "outputs": [
    {
     "name": "stdin",
     "output_type": "stream",
     "text": [
      "Enter your number: 8\n"
     ]
    },
    {
     "name": "stdout",
     "output_type": "stream",
     "text": [
      "Number is even\n"
     ]
    }
   ],
   "source": [
    "Num=int(input(\"Enter your number:\"))\n",
    "if Num%2==0:\n",
    "    print(\"Number is even\")\n",
    "else:\n",
    "    print(\"Number is odd\")"
   ]
  },
  {
   "cell_type": "code",
   "execution_count": 13,
   "id": "1f42ae9e-5b07-4e17-913f-c0bf18073dbe",
   "metadata": {},
   "outputs": [],
   "source": [
    "Task:7"
   ]
  },
  {
   "cell_type": "code",
   "execution_count": 14,
   "id": "7048fbb1-eedb-43d5-b36a-3c9b0c79ef74",
   "metadata": {},
   "outputs": [
    {
     "name": "stdin",
     "output_type": "stream",
     "text": [
      "Enter your number: -6\n"
     ]
    },
    {
     "name": "stdout",
     "output_type": "stream",
     "text": [
      "Number is negative\n"
     ]
    }
   ],
   "source": [
    "Num=int(input(\"Enter your number:\"))\n",
    "if Num>0:\n",
    "    print(\"Number is positive\")\n",
    "elif Num<0:\n",
    "    print(\"Number is negative\")\n",
    "else:\n",
    "    print(\"Number is zero\")"
   ]
  },
  {
   "cell_type": "code",
   "execution_count": 15,
   "id": "2dfeb4c9-8ca0-4868-aaeb-3206cef4fb4c",
   "metadata": {},
   "outputs": [],
   "source": [
    "Task:8"
   ]
  },
  {
   "cell_type": "code",
   "execution_count": 16,
   "id": "836f3880-eba2-431f-beb0-c358d49418ca",
   "metadata": {},
   "outputs": [
    {
     "name": "stdin",
     "output_type": "stream",
     "text": [
      "Enter your purchase amount: 1000\n"
     ]
    },
    {
     "name": "stdout",
     "output_type": "stream",
     "text": [
      "1000.0\n"
     ]
    }
   ],
   "source": [
    "purchase_amount=float(input(\"Enter your purchase amount:\"))\n",
    "if purchase_amount>1000:\n",
    "    discount_amount=1000*0.1\n",
    "    print(discount_amount)\n",
    "else:\n",
    "    print(purchase_amount)"
   ]
  },
  {
   "cell_type": "code",
   "execution_count": 17,
   "id": "1278eb57-b6a9-4c57-855a-6a6410d03391",
   "metadata": {},
   "outputs": [],
   "source": [
    "Task:9"
   ]
  },
  {
   "cell_type": "code",
   "execution_count": 18,
   "id": "18b714c7-c4fa-46db-af8d-a0e402557a2f",
   "metadata": {},
   "outputs": [
    {
     "name": "stdin",
     "output_type": "stream",
     "text": [
      "Enter your attendance: 74\n"
     ]
    },
    {
     "name": "stdout",
     "output_type": "stream",
     "text": [
      "Not eligible to sit for exam\n"
     ]
    }
   ],
   "source": [
    "Attendance=int(input(\"Enter your attendance:\"))\n",
    "if Attendance>=75:\n",
    "    print(\"Eligible to sit for exam\")\n",
    "else:\n",
    "    print(\"Not eligible to sit for exam\")"
   ]
  },
  {
   "cell_type": "code",
   "execution_count": 19,
   "id": "3e8e7d82-ef27-4f6d-8ee8-6d5fb53ddefa",
   "metadata": {},
   "outputs": [],
   "source": [
    "Task:10"
   ]
  },
  {
   "cell_type": "code",
   "execution_count": 30,
   "id": "31b693cb-651a-47af-98c3-02864a1debae",
   "metadata": {},
   "outputs": [
    {
     "name": "stdin",
     "output_type": "stream",
     "text": [
      "Enter your choose: 1\n",
      "Enter your Tempreture: 32\n"
     ]
    },
    {
     "name": "stdout",
     "output_type": "stream",
     "text": [
      "Converted Temp into Fahrenheit to Celcius: 0.0\n"
     ]
    }
   ],
   "source": [
    "choose=1\n",
    "choose=2\n",
    "choose=(input(\"Enter your choose:\"))\n",
    "temp=float(input(\"Enter your Tempreture:\"))\n",
    "if choose==1:\n",
    "    F=(temp*(9/5))+32\n",
    "    print(\"Converted Temp into Celcius to Fahrenheit:\",F)\n",
    "else:\n",
    "    C=(temp-32)*5/9\n",
    "    print(\"Converted Temp into Fahrenheit to Celcius:\",C)\n",
    "    "
   ]
  },
  {
   "cell_type": "code",
   "execution_count": null,
   "id": "c7310214-0085-4517-a7e6-799fac70646a",
   "metadata": {},
   "outputs": [],
   "source": []
  }
 ],
 "metadata": {
  "kernelspec": {
   "display_name": "Python 3 (ipykernel)",
   "language": "python",
   "name": "python3"
  },
  "language_info": {
   "codemirror_mode": {
    "name": "ipython",
    "version": 3
   },
   "file_extension": ".py",
   "mimetype": "text/x-python",
   "name": "python",
   "nbconvert_exporter": "python",
   "pygments_lexer": "ipython3",
   "version": "3.12.4"
  }
 },
 "nbformat": 4,
 "nbformat_minor": 5
}
